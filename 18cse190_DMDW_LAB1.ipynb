{
  "nbformat": 4,
  "nbformat_minor": 0,
  "metadata": {
    "colab": {
      "name": "18cse190_DMDW_LAB1.ipynb",
      "provenance": [],
      "authorship_tag": "ABX9TyN60Kfrfa/vrvI9Z/ygnoBX",
      "include_colab_link": true
    },
    "kernelspec": {
      "name": "python3",
      "display_name": "Python 3"
    }
  },
  "cells": [
    {
      "cell_type": "markdown",
      "metadata": {
        "id": "view-in-github",
        "colab_type": "text"
      },
      "source": [
        "<a href=\"https://colab.research.google.com/github/panditsatish190/18cse19_DMDW-Assingment1/blob/main/18cse190_DMDW_LAB1.ipynb\" target=\"_parent\"><img src=\"https://colab.research.google.com/assets/colab-badge.svg\" alt=\"Open In Colab\"/></a>"
      ]
    },
    {
      "cell_type": "code",
      "metadata": {
        "id": "nCxjE-VvkvOn"
      },
      "source": [
        "#mean without libarary function"
      ],
      "execution_count": null,
      "outputs": []
    },
    {
      "cell_type": "code",
      "metadata": {
        "colab": {
          "base_uri": "https://localhost:8080/"
        },
        "id": "ah7jF9-wm4bI",
        "outputId": "eff664eb-145d-4f63-dda6-866fac2438b2"
      },
      "source": [
        "n_num= [23,34,12,5,6,22,33,41,56,56,78,12,12,12]\n",
        "n=len(n_num)\n",
        "get_sum=sum(n_num)\n",
        "mean=get_sum/n\n",
        "print(\"Mean/Average is:\"+str(mean))"
      ],
      "execution_count": 1,
      "outputs": [
        {
          "output_type": "stream",
          "text": [
            "Mean/Average is:28.714285714285715\n"
          ],
          "name": "stdout"
        }
      ]
    },
    {
      "cell_type": "code",
      "metadata": {
        "colab": {
          "base_uri": "https://localhost:8080/"
        },
        "id": "Q1ZJsLuSm-Zo",
        "outputId": "7f8cb305-0ba8-4da0-8194-b23ded8f3ced"
      },
      "source": [
        "#median without library function\n",
        "n_num = [23,34,12,5,6,22,33,41,56,56,78,12,12,12] \n",
        "n = len(n_num) \n",
        "n_num.sort() \n",
        "  \n",
        "if n % 2 == 0: \n",
        "    median1 = n_num[n//2] \n",
        "    median2 = n_num[n//2 - 1] \n",
        "    median = (median1 + median2)/2\n",
        "else: \n",
        "    median = n_num[n//2] \n",
        "print(\"Median is: \" + str(median))"
      ],
      "execution_count": 2,
      "outputs": [
        {
          "output_type": "stream",
          "text": [
            "Median is: 22.5\n"
          ],
          "name": "stdout"
        }
      ]
    },
    {
      "cell_type": "code",
      "metadata": {
        "colab": {
          "base_uri": "https://localhost:8080/"
        },
        "id": "75vR10BinD4o",
        "outputId": "d7c2d0c1-520b-4c33-9665-612e7997ea04"
      },
      "source": [
        "#mode without libray function\n",
        "from collections import Counter \n",
        "n_num = [23,34,12,5,6,22,33,41,56,56,78,12,12,12] \n",
        "n = len(n_num) \n",
        "  \n",
        "data = Counter(n_num) \n",
        "get_mode = dict(data) \n",
        "mode = [k for k, v in get_mode.items() if v == max(list(data.values()))] \n",
        "  \n",
        "if len(mode) == n: \n",
        "    get_mode = \" mode not found\"\n",
        "else: \n",
        "    get_mode = \"Mode is / are: \" + ', '.join(map(str, mode)) \n",
        "      \n",
        "print(get_mode)"
      ],
      "execution_count": 3,
      "outputs": [
        {
          "output_type": "stream",
          "text": [
            "Mode is / are: 12\n"
          ],
          "name": "stdout"
        }
      ]
    },
    {
      "cell_type": "code",
      "metadata": {
        "colab": {
          "base_uri": "https://localhost:8080/"
        },
        "id": "z7gPuMlMnNKd",
        "outputId": "4d4adf69-6c1f-4562-dfa1-838f1c891047"
      },
      "source": [
        "#mean with library function\n",
        "import statistics\n",
        "statistics.mean([23,34,12,5,6,22,33,41,56,56,78,12,12,12])"
      ],
      "execution_count": 4,
      "outputs": [
        {
          "output_type": "execute_result",
          "data": {
            "text/plain": [
              "28.714285714285715"
            ]
          },
          "metadata": {
            "tags": []
          },
          "execution_count": 4
        }
      ]
    },
    {
      "cell_type": "code",
      "metadata": {
        "id": "6Xj9jZu2nWoD"
      },
      "source": [
        "#median with library function\n",
        "import statistics\n",
        "\n",
        "  statistics.median([23,34,12,5,6,22,33,41,56,56,78,12,12,12])"
      ],
      "execution_count": null,
      "outputs": []
    },
    {
      "cell_type": "code",
      "metadata": {
        "id": "azQhg3WTnc2c"
      },
      "source": [
        "import statistics\n",
        "\n",
        ">>> statistics.mode([23,34,12,5,6,22,33,41,56,56,78,12,12,12])"
      ],
      "execution_count": null,
      "outputs": []
    },
    {
      "cell_type": "code",
      "metadata": {
        "colab": {
          "base_uri": "https://localhost:8080/"
        },
        "id": "FaDyZv4dngeL",
        "outputId": "35907223-3d0c-46fa-8312-83f53ed39192"
      },
      "source": [
        "# calculatuon for  list of variance \n",
        "import numpy as np \n",
        "list = [ 23,34,12,22,5,33,41,56,78] \n",
        "print(np.var(list))"
      ],
      "execution_count": 6,
      "outputs": [
        {
          "output_type": "stream",
          "text": [
            "451.0617283950617\n"
          ],
          "name": "stdout"
        }
      ]
    },
    {
      "cell_type": "code",
      "metadata": {
        "colab": {
          "base_uri": "https://localhost:8080/"
        },
        "id": "8TjcZj2Dnn4U",
        "outputId": "8547a3af-a186-4c21-c2d0-cf6b339083aa"
      },
      "source": [
        "#calculation of standard deviation\n",
        "import numpy as np \n",
        "  \n",
        "# Taking the elements in List type\n",
        "list = [23,34,12,22,5,33,41,56,78]  \n",
        "print(np.std(list))"
      ],
      "execution_count": 7,
      "outputs": [
        {
          "output_type": "stream",
          "text": [
            "21.238213870169538\n"
          ],
          "name": "stdout"
        }
      ]
    },
    {
      "cell_type": "code",
      "metadata": {
        "id": "S34yeVOsnppj"
      },
      "source": [
        ""
      ],
      "execution_count": null,
      "outputs": []
    }
  ]
}